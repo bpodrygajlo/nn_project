{
 "cells": [
  {
   "cell_type": "code",
   "execution_count": 1,
   "metadata": {
    "collapsed": false
   },
   "outputs": [],
   "source": [
    "import numpy as numpy\n",
    "import numpy as np\n",
    "import theano\n",
    "import theano.tensor as T"
   ]
  },
  {
   "cell_type": "markdown",
   "metadata": {},
   "source": [
    "# CIFAR10 example\n",
    "\n",
    "We will now build a convolutional network for the CIFAR10 data. We will use Theano."
   ]
  },
  {
   "cell_type": "code",
   "execution_count": 2,
   "metadata": {
    "collapsed": false
   },
   "outputs": [
    {
     "name": "stdout",
     "output_type": "stream",
     "text": [
      "The streams return batches containing (u'features', u'targets')\n",
      "Each trainin batch consits of a tuple containing:\n",
      " - an array of size (100, 3, 32, 32) containing float32\n",
      " - an array of size (100, 1) containing uint8\n",
      "Validation/test batches consits of tuples containing:\n",
      " - an array of size (100, 3, 32, 32) containing float32\n",
      " - an array of size (100, 1) containing uint8\n"
     ]
    }
   ],
   "source": [
    "from data_loading import *"
   ]
  },
  {
   "cell_type": "code",
   "execution_count": 3,
   "metadata": {
    "collapsed": true
   },
   "outputs": [],
   "source": [
    "from layers import *"
   ]
  },
  {
   "cell_type": "code",
   "execution_count": 6,
   "metadata": {
    "collapsed": false
   },
   "outputs": [],
   "source": [
    "#virtually not a net\n",
    "cnn = ConvNet(name = \"barely a net\", desc = \"No strings attached\")\n",
    "cnn.add(InputLayer())\n",
    "\n",
    "cnn.add(ConvLayer(image_stack = 3, num_filters = 10, filter_size=(7,7)))\n",
    "cnn.add(ReLULayer())\n",
    "cnn.add(PoolingLayer())\n",
    "\n",
    "cnn.add(FlattenLayer())\n",
    "\n",
    "cnn.add(FullyConnectedLayer(num_in = 1690, num_out = 100))\n",
    "cnn.add(FullyConnectedLayer(num_in = 100, num_out = 10))\n",
    "\n",
    "cnn.add(SoftMaxLayer())\n"
   ]
  },
  {
   "cell_type": "code",
   "execution_count": 11,
   "metadata": {
    "collapsed": true
   },
   "outputs": [],
   "source": [
    "#basic net\n",
    "cnn = ConvNet()\n",
    "cnn.add(InputLayer())\n",
    "\n",
    "cnn.add(ConvLayer(image_stack = 3, num_filters = 15))\n",
    "cnn.add(ReLULayer())\n",
    "cnn.add(PoolingLayer())\n",
    "\n",
    "cnn.add(ConvLayer(image_stack = 15, num_filters = 25))\n",
    "cnn.add(ReLULayer())\n",
    "cnn.add(PoolingLayer())\n",
    "\n",
    "cnn.add(FlattenLayer())\n",
    "\n",
    "cnn.add(FullyConnectedLayer(num_in = 625, num_out = 300))\n",
    "cnn.add(FullyConnectedLayer(num_in = 300, num_out = 10))\n",
    "\n",
    "cnn.add(SoftMaxLayer())"
   ]
  },
  {
   "cell_type": "code",
   "execution_count": 12,
   "metadata": {
    "collapsed": false
   },
   "outputs": [],
   "source": [
    "#convNetJS example\n",
    "cnn = ConvNet()\n",
    "\n",
    "cnn.add(InputLayer())\n",
    "\n",
    "cnn.add(ConvLayer(image_stack=3, num_filters = 16))\n",
    "cnn.add(ReLULayer())\n",
    "cnn.add(PoolingLayer())\n",
    "\n",
    "cnn.add(ConvLayer(image_stack=16, num_filters =20))\n",
    "cnn.add(ReLULayer())\n",
    "cnn.add(PoolingLayer())\n",
    "\n",
    "cnn.add(ConvLayer(filter_size = (3,3), image_stack=20, num_filters = 20))\n",
    "cnn.add(ReLULayer())\n",
    "cnn.add(PoolingLayer())\n",
    "\n",
    "cnn.add(FlattenLayer())\n",
    "cnn.add(FullyConnectedLayer(num_in = 20, num_out = 10))\n",
    "\n",
    "cnn.add(SoftMaxLayer())"
   ]
  },
  {
   "cell_type": "code",
   "execution_count": null,
   "metadata": {
    "collapsed": true
   },
   "outputs": [],
   "source": [
    "# some persons net\n",
    "cnn = ConvNet()\n",
    "\n",
    "cnn.add(InputLayer())\n",
    "\n",
    "cnn.add(ConvLayer(image_stack = 3, num_filters = 32))\n",
    "cnn.add(ReLULayer())\n",
    "cnn.add(PoolingLayer())\n",
    "\n",
    "cnn.add(ConvLayer(image_stack = 32, num_filters = 64))\n",
    "cnn.add(ReLULayer())\n",
    "cnn.add(PoolingLayer())\n",
    "\n",
    "cnn.add(FlattenLayer())\n",
    "cnn.add(FullyConnectedLayer(num_in = 1600, num_out=800))\n",
    "cnn.add(FullyConnectedLayer(num_in = 800, num_out=400))\n",
    "cnn.add(FullyConnectedLayer(num_in = 400, num_out=10))\n",
    "cnn.add(SoftMaxLayer())"
   ]
  },
  {
   "cell_type": "code",
   "execution_count": 10,
   "metadata": {
    "collapsed": false
   },
   "outputs": [],
   "source": [
    "#28%\n",
    "cnn = ConvNet()\n",
    "cnn.add(InputLayer())\n",
    "\n",
    "cnn.add(ConvLayer(image_stack = 3, num_filters = 64))\n",
    "cnn.add(ReLULayer())\n",
    "cnn.add(PoolingLayer())\n",
    "\n",
    "cnn.add(ConvLayer(image_stack = 64, num_filters = 64 ))\n",
    "cnn.add(ReLULayer())\n",
    "cnn.add(PoolingLayer())\n",
    "\n",
    "cnn.add(ConvLayer(image_stack = 64 , num_filters = 64))\n",
    "\n",
    "cnn.add(FlattenLayer())\n",
    "cnn.add(FullyConnectedLayer(num_in = 64, num_out =10))\n",
    "cnn.add(SoftMaxLayer())"
   ]
  },
  {
   "cell_type": "code",
   "execution_count": 62,
   "metadata": {
    "collapsed": true
   },
   "outputs": [],
   "source": [
    "#28% new new\n",
    "cnn = ConvNet()\n",
    "cnn.add(InputLayer())\n",
    "\n",
    "cnn.add(ConvLayer(image_stack = 3, num_filters = 64))\n",
    "cnn.add(ReLULayer())\n",
    "cnn.add(PoolingLayer())\n",
    "\n",
    "cnn.add(ConvLayer(image_stack = 64, num_filters = 64 ))\n",
    "cnn.add(ReLULayer())\n",
    "cnn.add(PoolingLayer())\n",
    "\n",
    "cnn.add(ConvLayer(image_stack = 64 , num_filters = 64))\n",
    "cnn.add(ReLULayer())\n",
    "cnn.add(FlattenLayer())\n",
    "cnn.add(FullyConnectedLayer(num_in = 64, num_out =10))\n",
    "cnn.add(DropoutLayer(droprate=0.1))\n",
    "cnn.add(SoftMaxLayer())"
   ]
  },
  {
   "cell_type": "code",
   "execution_count": 63,
   "metadata": {
    "collapsed": true
   },
   "outputs": [],
   "source": [
    "#28% new\n",
    "cnn = ConvNet()\n",
    "cnn.add(InputLayer())\n",
    "\n",
    "cnn.add(ConvLayer(image_stack = 3, num_filters = 64))\n",
    "cnn.add(ReLULayer())\n",
    "cnn.add(PoolingLayer())\n",
    "\n",
    "cnn.add(ConvLayer(image_stack = 64, num_filters = 128 ))\n",
    "cnn.add(ReLULayer())\n",
    "cnn.add(PoolingLayer())\n",
    "\n",
    "cnn.add(ConvLayer(image_stack = 128 , num_filters = 128, filter_size = (4,4)))\n",
    "\n",
    "cnn.add(FlattenLayer())\n",
    "cnn.add(ReLULayer())\n",
    "cnn.add(FullyConnectedLayer(num_in = 512, num_out =256))\n",
    "cnn.add(ReLULayer())\n",
    "cnn.add(DropoutLayer(droprate=0.2))\n",
    "cnn.add(FullyConnectedLayer(num_in = 256, num_out =10))\n",
    "cnn.add(SoftMaxLayer())"
   ]
  },
  {
   "cell_type": "code",
   "execution_count": 64,
   "metadata": {
    "collapsed": true
   },
   "outputs": [],
   "source": [
    "#28%++\n",
    "cnn = ConvNet()\n",
    "cnn.add(InputLayer())\n",
    "\n",
    "cnn.add(ConvLayer(image_stack = 3, num_filters = 64))\n",
    "cnn.add(ReLULayer())\n",
    "cnn.add(PoolingLayer())\n",
    "\n",
    "cnn.add(ConvLayer(image_stack = 64, num_filters = 64 ))\n",
    "cnn.add(ReLULayer())\n",
    "cnn.add(PoolingLayer())\n",
    "\n",
    "cnn.add(ConvLayer(image_stack = 64 , num_filters = 64, filter_size=(3,3)))\n",
    "\n",
    "cnn.add(FlattenLayer())\n",
    "cnn.add(ReLULayer())\n",
    "cnn.add(FullyConnectedLayer(num_in = 576, num_out =64))\n",
    "cnn.add(ReLULayer())\n",
    "cnn.add(FullyConnectedLayer(num_in = 64, num_out =10))\n",
    "cnn.add(SoftMaxLayer())"
   ]
  },
  {
   "cell_type": "code",
   "execution_count": 65,
   "metadata": {
    "collapsed": true
   },
   "outputs": [],
   "source": [
    "#28%++2\n",
    "cnn = ConvNet()\n",
    "cnn.add(InputLayer())\n",
    "\n",
    "cnn.add(ConvLayer(image_stack = 3, num_filters = 64))\n",
    "cnn.add(ReLULayer())\n",
    "cnn.add(PoolingLayer())\n",
    "\n",
    "cnn.add(ConvLayer(image_stack = 64, num_filters = 64 ))\n",
    "cnn.add(ReLULayer())\n",
    "cnn.add(PoolingLayer())\n",
    "\n",
    "cnn.add(ConvLayer(image_stack = 64 , num_filters = 128, filter_size=(3,3)))\n",
    "\n",
    "cnn.add(FlattenLayer())\n",
    "cnn.add(ReLULayer())\n",
    "cnn.add(FullyConnectedLayer(num_in = 1152, num_out =64))\n",
    "cnn.add(ReLULayer())\n",
    "cnn.add(FullyConnectedLayer(num_in = 64, num_out =10))\n",
    "cnn.add(SoftMaxLayer())"
   ]
  },
  {
   "cell_type": "code",
   "execution_count": 66,
   "metadata": {
    "collapsed": true
   },
   "outputs": [],
   "source": [
    "#28%+\n",
    "cnn = ConvNet()\n",
    "cnn.add(InputLayer())\n",
    "\n",
    "cnn.add(ConvLayer(image_stack = 3, num_filters = 64))\n",
    "cnn.add(ReLULayer())\n",
    "cnn.add(PoolingLayer())\n",
    "\n",
    "cnn.add(ConvLayer(image_stack = 64, num_filters = 128 ))\n",
    "cnn.add(ReLULayer())\n",
    "cnn.add(PoolingLayer())\n",
    "\n",
    "cnn.add(ConvLayer(image_stack = 128 , num_filters = 128, filter_size = (3,3)))\n",
    "cnn.add(PoolingLayer())\n",
    "cnn.add(FlattenLayer())\n",
    "cnn.add(ReLULayer())\n",
    "cnn.add(FullyConnectedLayer(num_in = 128, num_out =10))\n",
    "cnn.add(DropoutLayer(droprate=0.2))\n",
    "cnn.add(SoftMaxLayer())"
   ]
  },
  {
   "cell_type": "code",
   "execution_count": 67,
   "metadata": {
    "collapsed": true
   },
   "outputs": [],
   "source": [
    "#\n",
    "cnn = ConvNet()\n",
    "cnn.add(InputLayer())\n",
    "\n",
    "cnn.add(ConvLayer(image_stack = 3, num_filters = 64))\n",
    "cnn.add(ReLULayer())\n",
    "cnn.add(PoolingLayer())\n",
    "\n",
    "cnn.add(ConvLayer(image_stack = 64, num_filters = 64 ))\n",
    "cnn.add(ReLULayer())\n",
    "cnn.add(PoolingLayer())\n",
    "\n",
    "cnn.add(ConvLayer(image_stack = 64 , num_filters = 64))\n",
    "\n",
    "cnn.add(FlattenLayer())\n",
    "cnn.add(FullyConnectedLayer(num_in = 64, num_out =10))\n",
    "cnn.add(DropoutLayer(droprate=0.2))\n",
    "cnn.add(SoftMaxLayer())"
   ]
  },
  {
   "cell_type": "code",
   "execution_count": 13,
   "metadata": {
    "collapsed": false
   },
   "outputs": [],
   "source": [
    "#popr\n",
    "cnn = ConvNet()\n",
    "cnn.add(InputLayer())\n",
    "\n",
    "cnn.add(ConvLayer(image_stack = 3, num_filters = 64))\n",
    "cnn.add(ReLULayer())\n",
    "cnn.add(PoolingLayer())\n",
    "\n",
    "cnn.add(ConvLayer(image_stack = 64, num_filters = 64 ))\n",
    "cnn.add(ReLULayer())\n",
    "cnn.add(PoolingLayer())\n",
    "\n",
    "cnn.add(ConvLayer(image_stack = 64 , num_filters = 128))\n",
    "\n",
    "cnn.add(FlattenLayer())\n",
    "cnn.add(FullyConnectedLayer(num_in = 128, num_out =64))\n",
    "cnn.add(DropoutLayer(droprate = 0.2))\n",
    "cnn.add(FullyConnectedLayer(num_in = 64, num_out =10))\n",
    "cnn.add(SoftMaxLayer())"
   ]
  },
  {
   "cell_type": "code",
   "execution_count": 69,
   "metadata": {
    "collapsed": true
   },
   "outputs": [],
   "source": [
    "#some untested networks\n",
    "cnn = ConvNet()\n",
    "cnn.add(InputLayer())\n",
    "\n",
    "cnn.add(ConvLayer(image_stack = 3, num_filters = 100, filter_size = (3,3)))\n",
    "cnn.add(ReLULayer())\n",
    "cnn.add(PoolingLayer())\n",
    "\n",
    "cnn.add(DropoutLayer(droprate=0.2))\n",
    "\n",
    "cnn.add(ConvLayer(image_stack = 100, num_filters = 100, filter_size = (2,2)))\n",
    "cnn.add(ReLULayer())\n",
    "cnn.add(PoolingLayer())\n",
    "\n",
    "cnn.add(DropoutLayer(droprate=0.2))\n",
    "\n",
    "cnn.add(ConvLayer(image_stack = 100, num_filters = 100, filter_size = (2,2)))\n",
    "cnn.add(ReLULayer())\n",
    "cnn.add(PoolingLayer())\n",
    "\n",
    "cnn.add(DropoutLayer(droprate=0.2))\n",
    "\n",
    "cnn.add(FlattenLayer())\n",
    "cnn.add(FullyConnectedLayer(num_in = 900, num_out=450))\n",
    "\n",
    "cnn.add(SoftMaxLayer())"
   ]
  },
  {
   "cell_type": "code",
   "execution_count": 33,
   "metadata": {
    "collapsed": true
   },
   "outputs": [],
   "source": [
    "cnn = ConvNet()\n",
    "cnn.add(InputLayer())\n",
    "\n",
    "cnn.add(ConvLayer(image_stack = 3, num_filters = 50, filter_size = (3,3)))\n",
    "cnn.add(ReLULayer())\n",
    "cnn.add(PoolingLayer())\n",
    "\n",
    "cnn.add(ConvLayer(image_stack = 50, num_filters = 150, filter_size = (2,2) ))\n",
    "cnn.add(ReLULayer())\n",
    "cnn.add(PoolingLayer())\n",
    "\n",
    "cnn.add(ConvLayer(image_stack = 150 , num_filters = 200, filter_size = (2,2)))\n",
    "cnn.add(ReLULayer())\n",
    "cnn.add(PoolingLayer())\n",
    "\n",
    "cnn.add(ConvLayer(image_stack = 200 , num_filters = 200, filter_size = (1,1)))\n",
    "\n",
    "cnn.add(ConvLayer(image_stack = 200 , num_filters = 250, filter_size = (2,2)))\n",
    "cnn.add(ReLULayer())\n",
    "cnn.add(PoolingLayer())\n",
    "\n",
    "cnn.add(FlattenLayer())\n",
    "cnn.add(FullyConnectedLayer(num_in = 250, num_out = 10))\n",
    "cnn.add(ReLULayer())\n",
    "cnn.add(DropoutLayer(droprate = 0.2))\n",
    "\n",
    "cnn.add(SoftMaxLayer())\n"
   ]
  },
  {
   "cell_type": "code",
   "execution_count": 11,
   "metadata": {
    "collapsed": true
   },
   "outputs": [],
   "source": [
    "import copy\n",
    "\n",
    "cnn_copy = copy.deepcopy(cnn)"
   ]
  },
  {
   "cell_type": "code",
   "execution_count": 12,
   "metadata": {
    "collapsed": false
   },
   "outputs": [
    {
     "name": "stdout",
     "output_type": "stream",
     "text": [
      "\n",
      "InputLayer\n",
      "Layer shape: (3, 3, 32, 32)\n",
      "ConvLayer\n",
      "Layer shape: (3, 64, 28, 28)\n",
      "ReLULayer\n",
      "Layer shape: (3, 64, 28, 28)\n",
      "PoolingLayer \n",
      "Layer shape: (3, 64, 14, 14)\n",
      "ConvLayer\n",
      "Layer shape: (3, 64, 10, 10)\n",
      "ReLULayer\n",
      "Layer shape: (3, 64, 10, 10)\n",
      "PoolingLayer \n",
      "Layer shape: (3, 64, 5, 5)\n",
      "ConvLayer\n",
      "Layer shape: (3, 64, 1, 1)\n",
      "FlattenLayer \n",
      "Layer shape: (3, 64)\n",
      "FullyConnectedLayer \n",
      "Layer shape: (3, 10)\n",
      "SoftMaxLayer \n",
      "Layer shape: (3, 10)\n"
     ]
    }
   ],
   "source": [
    "# A theano variable is an entry to the cmputational graph\n",
    "# We will need to provide its value during function call\n",
    "# X is batch_size x num_channels x img_rows x img_columns\n",
    "X = T.tensor4('X')\n",
    "\n",
    "# Y is 1D, it lists the targets for all examples\n",
    "Y = T.matrix('Y', dtype='uint8')\n",
    "\n",
    "#The tag values are useful during debugging the creation of Theano graphs\n",
    "\n",
    "X_test_value, Y_test_value = next(cifar_train_stream.get_epoch_iterator())\n",
    "#\n",
    "# Unfortunately, test tags don't work with convolutions with newest Theano :(\n",
    "#\n",
    "theano.config.compute_test_value  = 'warn' # Enable the computation of test values\n",
    "\n",
    "\n",
    "X.tag.test_value = X_test_value[:3]\n",
    "Y.tag.test_value = Y_test_value[:3]\n",
    "\n",
    "print \n",
    "\n",
    "model_parameters = cnn.init_parameters()\n",
    "log_probs = cnn.fprop(X,printing=True)\n",
    "\n",
    "theano.config.compute_test_value = 'off'"
   ]
  },
  {
   "cell_type": "code",
   "execution_count": 13,
   "metadata": {
    "collapsed": false
   },
   "outputs": [],
   "source": [
    "import cPickle\n",
    "\n",
    "f = file(cnn.name,'wb')\n",
    "cPickle.dump(cnn_copy,f)\n",
    "f.close()"
   ]
  }
 ],
 "metadata": {
  "kernelspec": {
   "display_name": "Python 2",
   "language": "python",
   "name": "python2"
  },
  "language_info": {
   "codemirror_mode": {
    "name": "ipython",
    "version": 2
   },
   "file_extension": ".py",
   "mimetype": "text/x-python",
   "name": "python",
   "nbconvert_exporter": "python",
   "pygments_lexer": "ipython2",
   "version": "2.7.11"
  }
 },
 "nbformat": 4,
 "nbformat_minor": 0
}
